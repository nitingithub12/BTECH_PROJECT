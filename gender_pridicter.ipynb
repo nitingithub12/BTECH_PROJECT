{
  "nbformat": 4,
  "nbformat_minor": 0,
  "metadata": {
    "colab": {
      "provenance": [],
      "authorship_tag": "ABX9TyPl17K4pyc1qn/v42MmH9X8",
      "include_colab_link": true
    },
    "kernelspec": {
      "name": "python3",
      "display_name": "Python 3"
    },
    "language_info": {
      "name": "python"
    }
  },
  "cells": [
    {
      "cell_type": "markdown",
      "metadata": {
        "id": "view-in-github",
        "colab_type": "text"
      },
      "source": [
        "<a href=\"https://colab.research.google.com/github/nitingithub12/BTECH_PROJECT/blob/main/gender_pridicter.ipynb\" target=\"_parent\"><img src=\"https://colab.research.google.com/assets/colab-badge.svg\" alt=\"Open In Colab\"/></a>"
      ]
    },
    {
      "cell_type": "code",
      "execution_count": null,
      "metadata": {
        "colab": {
          "base_uri": "https://localhost:8080/"
        },
        "id": "WXfeQGIWeSNe",
        "outputId": "30310093-6d34-40a3-c609-6c371a2f746a"
      },
      "outputs": [
        {
          "output_type": "stream",
          "name": "stderr",
          "text": [
            "[nltk_data] Downloading package names to /root/nltk_data...\n",
            "[nltk_data]   Package names is already up-to-date!\n"
          ]
        },
        {
          "output_type": "stream",
          "name": "stdout",
          "text": [
            "\n",
            "Number of letters: 1\n",
            "Accuracy ==> 76.2%\n",
            "Leonardo ==> male\n",
            "Amy ==> female\n",
            "Sam ==> male\n",
            "\n",
            "Number of letters: 2\n",
            "Accuracy ==> 78.60000000000001%\n",
            "Leonardo ==> male\n",
            "Amy ==> female\n",
            "Sam ==> male\n",
            "\n",
            "Number of letters: 3\n",
            "Accuracy ==> 76.6%\n",
            "Leonardo ==> male\n",
            "Amy ==> female\n",
            "Sam ==> female\n",
            "\n",
            "Number of letters: 4\n",
            "Accuracy ==> 70.8%\n",
            "Leonardo ==> male\n",
            "Amy ==> female\n",
            "Sam ==> female\n"
          ]
        }
      ],
      "source": [
        "import nltk\n",
        "nltk.download('names')\n",
        "\n",
        "import random\n",
        "from nltk.corpus import names\n",
        "from nltk import NaiveBayesClassifier\n",
        "from nltk.classify import accuracy as nltk_accuracy\n",
        "\n",
        "# Extract features from the input word\n",
        "def gender_features(word, num_letters=2):\n",
        "    return {'feature': word[-num_letters:].lower()}\n",
        "\n",
        "if __name__=='__main__':\n",
        "    # Extract labeled names\n",
        "    labeled_names = ([(name, 'male') for name in names.words('male.txt')] +\n",
        "            [(name, 'female') for name in names.words('female.txt')])\n",
        "\n",
        "    random.seed(7)\n",
        "    random.shuffle(labeled_names)\n",
        "    input_names = ['Leonardo', 'Amy', 'Sam']\n",
        "\n",
        "    # Sweeping the parameter space\n",
        "    for i in range(1, 5):\n",
        "        print('\\nNumber of letters:', i)\n",
        "        featuresets = [(gender_features(n, i), gender) for (n, gender) in labeled_names]\n",
        "        train_set, test_set = featuresets[500:], featuresets[:500]\n",
        "        classifier = NaiveBayesClassifier.train(train_set)\n",
        "\n",
        "        # Print classifier accuracy\n",
        "        print('Accuracy ==>', str(100 * nltk_accuracy(classifier, test_set)) + str('%'))\n",
        "\n",
        "        # Predict outputs for new inputs\n",
        "        for name in input_names:\n",
        "            print(name, '==>', classifier.classify(gender_features(name, i)))\n"
      ]
    }
  ]
}