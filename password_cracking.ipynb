{
  "cells": [
    {
      "cell_type": "markdown",
      "metadata": {
        "id": "view-in-github",
        "colab_type": "text"
      },
      "source": [
        "<a href=\"https://colab.research.google.com/github/nitingithub12/BTECH_PROJECT/blob/main/password_cracking.ipynb\" target=\"_parent\"><img src=\"https://colab.research.google.com/assets/colab-badge.svg\" alt=\"Open In Colab\"/></a>"
      ]
    },
    {
      "cell_type": "code",
      "execution_count": null,
      "metadata": {
        "colab": {
          "background_save": true
        },
        "id": "EeXEGiWt0EXI"
      },
      "outputs": [],
      "source": [
        "from random import *\n",
        "import os\n",
        "u_pwd=input[\"enter a password:\"]\n",
        "pwd=['a', 'b', 'c', 'd', 'e', 'f', 'g', 'h', 'i', 'j', 'k', 'l', 'm', 'n', 'o',\n",
        "     'p', 'q', 'r', 's', 't', 'u', 'v', 'w', 'x', 'y', 'z', 'A', 'B', 'C', 'D', 'E',\n",
        "     'F', 'G', 'H', 'I', 'J', 'K', 'L', 'M', 'N', 'O', 'P', 'Q', 'R', 'S', 'T', 'U',\n",
        "     'V', 'W', 'X', 'Y', 'Z','!', '@', '#', '$', '%', '^', '&', '*', '(', ')', '-', '_',\n",
        "     '+', '=','1', '2', '3', '4', '5', '6', '7', '8', '9', '0']\n",
        " pw=\"\"\n",
        " while(pw!=u_pwd):\n",
        "      pw=\"\"\n",
        "      for letter in range(len(u_pwd)):\n",
        "          guess_pwd=pwd[randint(0,17)]\n",
        "          pw=str(geuss_pwd)+str(pw)\n",
        "          print(pw)\n",
        "          print(\"craking password .......please wait \")\n",
        "          os.system(\"cls\")\n",
        " print(\"password found is :\",pw)"
      ]
    }
  ],
  "metadata": {
    "colab": {
      "provenance": [],
      "authorship_tag": "ABX9TyMQan9+qo4rnMlsDFLQVLF8",
      "include_colab_link": true
    },
    "kernelspec": {
      "display_name": "Python 3",
      "name": "python3"
    },
    "language_info": {
      "name": "python"
    }
  },
  "nbformat": 4,
  "nbformat_minor": 0
}