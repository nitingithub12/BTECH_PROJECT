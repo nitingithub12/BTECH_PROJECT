{
 "cells": [
  {
   "cell_type": "markdown",
   "id": "a93c553c-a835-450a-85c4-5c317bcd1adc",
   "metadata": {},
   "source": [
    "## password checker "
   ]
  },
  {
   "cell_type": "code",
   "execution_count": null,
   "id": "76720b26-dbf3-4f72-aba8-0f485c36ea95",
   "metadata": {},
   "outputs": [],
   "source": [
    "import re\n",
    "\n",
    "def is_strong_password(password):\n",
    "    # Define password criteria\n",
    "    min_length = 8\n",
    "    has_uppercase = any(char.isupper() for char in password)\n",
    "    has_lowercase = any(char.islower() for char in password)\n",
    "    has_digit = any(char.isdigit() for char in password)\n",
    "    has_special_char = re.search(r'[!@#$%^&*(),.?\":{}|<>]', password) is not None\n",
    "    common_passwords = [\"password\", \"123456\", \"qwerty\", \"admin\"]\n",
    "\n",
    "    # Length check\n",
    "    if len(password) < min_length:\n",
    "        return False, \"Password should be at least {} characters long.\".format(min_length)\n",
    "\n",
    "    # Character types check\n",
    "    if not (has_uppercase and has_lowercase and has_digit and has_special_char):\n",
    "        return False, \"Password should include a mix of uppercase letters, lowercase letters, digits, and special characters.\"\n",
    "\n",
    "    # Common passwords check\n",
    "    if password.lower() in common_passwords:\n",
    "        return False, \"Avoid using common passwords.\"\n",
    "\n",
    "    # All checks passed, password is strong\n",
    "    return True, \"Password is strong!\"\n",
    "\n",
    "def main():\n",
    "    # Get user input for password\n",
    "    password = input(\"Enter your password: \")\n",
    "\n",
    "    # Check password strength\n",
    "    is_strong, message = is_strong_password(password)\n",
    "\n",
    "    # Provide user feedback\n",
    "    print(message)\n",
    "\n",
    "if __name__ == \"__main__\":\n",
    "    main()"
   ]
  },
  {
   "cell_type": "code",
   "execution_count": null,
   "id": "743ffd72-4659-416f-b849-7c590095ac16",
   "metadata": {},
   "outputs": [],
   "source": []
  },
  {
   "cell_type": "code",
   "execution_count": null,
   "id": "e51c6ff6-cbcd-4388-82c6-af43b3c160e3",
   "metadata": {},
   "outputs": [],
   "source": []
  }
 ],
 "metadata": {
  "kernelspec": {
   "display_name": "Python 3 (ipykernel)",
   "language": "python",
   "name": "python3"
  },
  "language_info": {
   "codemirror_mode": {
    "name": "ipython",
    "version": 3
   },
   "file_extension": ".py",
   "mimetype": "text/x-python",
   "name": "python",
   "nbconvert_exporter": "python",
   "pygments_lexer": "ipython3",
   "version": "3.12.1"
  }
 },
 "nbformat": 4,
 "nbformat_minor": 5
}
