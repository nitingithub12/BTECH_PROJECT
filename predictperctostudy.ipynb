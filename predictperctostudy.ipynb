{
  "nbformat": 4,
  "nbformat_minor": 0,
  "metadata": {
    "colab": {
      "provenance": [],
      "authorship_tag": "ABX9TyNQ5odKonSAh1HnAfPsBlry",
      "include_colab_link": true
    },
    "kernelspec": {
      "name": "python3",
      "display_name": "Python 3"
    },
    "language_info": {
      "name": "python"
    }
  },
  "cells": [
    {
      "cell_type": "markdown",
      "metadata": {
        "id": "view-in-github",
        "colab_type": "text"
      },
      "source": [
        "<a href=\"https://colab.research.google.com/github/nitingithub12/BTECH_PROJECT/blob/main/predictperctostudy.ipynb\" target=\"_parent\"><img src=\"https://colab.research.google.com/assets/colab-badge.svg\" alt=\"Open In Colab\"/></a>"
      ]
    },
    {
      "cell_type": "code",
      "source": [
        "import numpy as np\n",
        "import pandas as pd\n",
        "from sklearn.model_selection import train_test_split  ## training for this\n",
        "from sklearn.linear_model import LinearRegression\n",
        "\n",
        "saraddata={\n",
        "    'hours_study':[2,3,4,5,6,7,8,9,10],\n",
        "    'exam_score':[30,45,50,60,65,70,85,95,100]\n",
        "}\n",
        "\n",
        "df=pd.DataFrame(saraddata)\n",
        "\n",
        "# feature extraction\n",
        "x=df[['hours_study']]\n",
        "y=df[['exam_score']]\n",
        "\n",
        "x_train, x_test, y_train , y_test = train_test_split(x,y, test_size = 0.2, random_state=42)\n",
        "\n",
        "model=LinearRegression()  #for calling perpose\n",
        "\n",
        "model.fit(x_train, y_train)\n",
        "\n",
        "user_input=float(input(\"Enter the number of hours_study(1-10):\"))\n",
        "\n",
        "predict_score=model.predict([[user_input]])\n",
        "\n",
        "print(\"Predicted exam score is \", predict_score[0][0])"
      ],
      "metadata": {
        "id": "pPNqCP1oDofc"
      },
      "execution_count": null,
      "outputs": []
    }
  ]
}